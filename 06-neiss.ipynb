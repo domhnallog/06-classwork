{
 "cells": [
  {
   "cell_type": "markdown",
   "metadata": {},
   "source": [
    "## Setup & Investigate"
   ]
  },
  {
   "cell_type": "code",
   "execution_count": 1,
   "metadata": {},
   "outputs": [],
   "source": [
    "import pandas as pd\n",
    "import numpy as np\n",
    "\n",
    "%matplotlib inline"
   ]
  },
  {
   "cell_type": "code",
   "execution_count": 2,
   "metadata": {},
   "outputs": [
    {
     "name": "stdout",
     "output_type": "stream",
     "text": [
      "2017-NEISS-Data-Highlights.pdf\n",
      "2018-NEISS-Comparability-Table.pdf\n",
      "2018-NEISS-CPSC-only-Coding-Manual.pdf\n",
      "neiss_fmt.txt\n",
      "neiss2017.tsv\n",
      "neiss2017excel.xlsx\n",
      "neiss-soma.ipynb\n"
     ]
    }
   ],
   "source": [
    "!ls neiss"
   ]
  },
  {
   "cell_type": "code",
   "execution_count": 3,
   "metadata": {},
   "outputs": [
    {
     "name": "stdout",
     "output_type": "stream",
     "text": [
      "\"CPSC_Case_Number\"\t\"Treatment_Date\"\t\"Age\"\t\"Sex\"\t\"Race\"\t\"Other_Race\"\t\"Body_Part\"\t\"Diagnosis\"\t\"Other_Diagnosis\"\t\"Disposition\"\t\"Location\"\t\"Fire_Involvement\"\t\"Product_1\"\t\"Product_2\"\t\"Narrative_1\"\t\"Narrative_2\"\t\"Stratum\"\t\"PSU\"\t\"Weight\"\n",
      "170100733\t01/01/2017\t21\t1\t1\t\t75\t62\t\t1\t1\t0\t1207\t0\t21YOM WAS BOXING WITH FRIEND WHILE DRINKING AND GOT PUNCHED IN THE FACE\t. BAC= 93.6 DX HEAD INJURY AND ALCOHOL INTOXICATION\tS\t46\t77.6641\n",
      "170100734\t01/01/2017\t71\t1\t1\t\t31\t53\t\t1\t5\t0\t1807\t0\t71YOM FELL ON FLOOR IN BATHROOM. DX RIB CONTUSION\t\tS\t46\t77.6641\n",
      "170100735\t01/01/2017\t16\t1\t1\t\t33\t51\t\t1\t1\t0\t676\t342\t16YOM TRIPPED OVER A RUG AND FELL INTO A BURNING FIREPLACE\tDX BURNS INVOLVING LESS THAN 10% OF BODY SURFACE, FOREARM\tS\t46\t77.6641\n",
      "170100737\t01/01/2017\t55\t2\t1\t\t75\t62\t\t1\t1\t0\t620\t0\t55YOF WAS STANDING ON A STEP STOOL AND LOST FOOTING AND FELL. DX CLOSED\tHEAD INJURY\tS\t46\t77.6641\n"
     ]
    }
   ],
   "source": [
    "#  Commnd line code to preview the first few lines of any doc = head\n",
    "!head -n 5 neiss/neiss2017.tsv"
   ]
  },
  {
   "cell_type": "code",
   "execution_count": 4,
   "metadata": {},
   "outputs": [
    {
     "name": "stderr",
     "output_type": "stream",
     "text": [
      "C:\\Program Files (x86)\\Python37-32\\lib\\site-packages\\IPython\\core\\interactiveshell.py:3049: DtypeWarning: Columns (0,2) have mixed types. Specify dtype option on import or set low_memory=False.\n",
      "  interactivity=interactivity, compiler=compiler, result=result)\n"
     ]
    }
   ],
   "source": [
    "#  .tsv is a tab-separated value, so use csv reader but with condition of seperators defined as tabs.\n",
    "#  Also, this US Gov data and not set to Unicode. IF not Unicode, most US data is set to Latin-1 (ISO/IEC 8859-1).\n",
    "df = pd.read_csv(\"neiss/neiss2017.tsv\", sep='\\t', encoding='latin-1')"
   ]
  },
  {
   "cell_type": "code",
   "execution_count": 5,
   "metadata": {},
   "outputs": [
    {
     "data": {
      "text/plain": [
       "(386907, 19)"
      ]
     },
     "execution_count": 5,
     "metadata": {},
     "output_type": "execute_result"
    }
   ],
   "source": [
    "df.shape"
   ]
  },
  {
   "cell_type": "code",
   "execution_count": 6,
   "metadata": {},
   "outputs": [
    {
     "data": {
      "text/plain": [
       "CPSC_Case_Number     object\n",
       "Treatment_Date       object\n",
       "Age                  object\n",
       "Sex                   int64\n",
       "Race                float64\n",
       "Other_Race           object\n",
       "Body_Part           float64\n",
       "Diagnosis           float64\n",
       "Other_Diagnosis      object\n",
       "Disposition         float64\n",
       "Location            float64\n",
       "Fire_Involvement    float64\n",
       "Product_1           float64\n",
       "Product_2           float64\n",
       "Narrative_1          object\n",
       "Narrative_2          object\n",
       "Stratum              object\n",
       "PSU                 float64\n",
       "Weight              float64\n",
       "dtype: object"
      ]
     },
     "execution_count": 6,
     "metadata": {},
     "output_type": "execute_result"
    }
   ],
   "source": [
    "df.dtypes"
   ]
  },
  {
   "cell_type": "code",
   "execution_count": 7,
   "metadata": {},
   "outputs": [
    {
     "data": {
      "text/html": [
       "<div>\n",
       "<style scoped>\n",
       "    .dataframe tbody tr th:only-of-type {\n",
       "        vertical-align: middle;\n",
       "    }\n",
       "\n",
       "    .dataframe tbody tr th {\n",
       "        vertical-align: top;\n",
       "    }\n",
       "\n",
       "    .dataframe thead th {\n",
       "        text-align: right;\n",
       "    }\n",
       "</style>\n",
       "<table border=\"1\" class=\"dataframe\">\n",
       "  <thead>\n",
       "    <tr style=\"text-align: right;\">\n",
       "      <th></th>\n",
       "      <th>CPSC_Case_Number</th>\n",
       "      <th>Treatment_Date</th>\n",
       "      <th>Age</th>\n",
       "      <th>Sex</th>\n",
       "      <th>Race</th>\n",
       "      <th>Other_Race</th>\n",
       "      <th>Body_Part</th>\n",
       "      <th>Diagnosis</th>\n",
       "      <th>Other_Diagnosis</th>\n",
       "      <th>Disposition</th>\n",
       "      <th>Location</th>\n",
       "      <th>Fire_Involvement</th>\n",
       "      <th>Product_1</th>\n",
       "      <th>Product_2</th>\n",
       "      <th>Narrative_1</th>\n",
       "      <th>Narrative_2</th>\n",
       "      <th>Stratum</th>\n",
       "      <th>PSU</th>\n",
       "      <th>Weight</th>\n",
       "    </tr>\n",
       "  </thead>\n",
       "  <tbody>\n",
       "    <tr>\n",
       "      <th>0</th>\n",
       "      <td>170100733</td>\n",
       "      <td>01/01/2017</td>\n",
       "      <td>21</td>\n",
       "      <td>1</td>\n",
       "      <td>1.0</td>\n",
       "      <td>NaN</td>\n",
       "      <td>75.0</td>\n",
       "      <td>62.0</td>\n",
       "      <td>NaN</td>\n",
       "      <td>1.0</td>\n",
       "      <td>1.0</td>\n",
       "      <td>0.0</td>\n",
       "      <td>1207.0</td>\n",
       "      <td>0.0</td>\n",
       "      <td>21YOM WAS BOXING WITH FRIEND WHILE DRINKING AN...</td>\n",
       "      <td>. BAC= 93.6 DX HEAD INJURY AND ALCOHOL INTOXIC...</td>\n",
       "      <td>S</td>\n",
       "      <td>46.0</td>\n",
       "      <td>77.6641</td>\n",
       "    </tr>\n",
       "    <tr>\n",
       "      <th>1</th>\n",
       "      <td>170100734</td>\n",
       "      <td>01/01/2017</td>\n",
       "      <td>71</td>\n",
       "      <td>1</td>\n",
       "      <td>1.0</td>\n",
       "      <td>NaN</td>\n",
       "      <td>31.0</td>\n",
       "      <td>53.0</td>\n",
       "      <td>NaN</td>\n",
       "      <td>1.0</td>\n",
       "      <td>5.0</td>\n",
       "      <td>0.0</td>\n",
       "      <td>1807.0</td>\n",
       "      <td>0.0</td>\n",
       "      <td>71YOM FELL ON FLOOR IN BATHROOM. DX RIB CONTUSION</td>\n",
       "      <td>NaN</td>\n",
       "      <td>S</td>\n",
       "      <td>46.0</td>\n",
       "      <td>77.6641</td>\n",
       "    </tr>\n",
       "    <tr>\n",
       "      <th>2</th>\n",
       "      <td>170100735</td>\n",
       "      <td>01/01/2017</td>\n",
       "      <td>16</td>\n",
       "      <td>1</td>\n",
       "      <td>1.0</td>\n",
       "      <td>NaN</td>\n",
       "      <td>33.0</td>\n",
       "      <td>51.0</td>\n",
       "      <td>NaN</td>\n",
       "      <td>1.0</td>\n",
       "      <td>1.0</td>\n",
       "      <td>0.0</td>\n",
       "      <td>676.0</td>\n",
       "      <td>342.0</td>\n",
       "      <td>16YOM TRIPPED OVER A RUG AND FELL INTO A BURNI...</td>\n",
       "      <td>DX BURNS INVOLVING LESS THAN 10% OF BODY SURFA...</td>\n",
       "      <td>S</td>\n",
       "      <td>46.0</td>\n",
       "      <td>77.6641</td>\n",
       "    </tr>\n",
       "    <tr>\n",
       "      <th>3</th>\n",
       "      <td>170100737</td>\n",
       "      <td>01/01/2017</td>\n",
       "      <td>55</td>\n",
       "      <td>2</td>\n",
       "      <td>1.0</td>\n",
       "      <td>NaN</td>\n",
       "      <td>75.0</td>\n",
       "      <td>62.0</td>\n",
       "      <td>NaN</td>\n",
       "      <td>1.0</td>\n",
       "      <td>1.0</td>\n",
       "      <td>0.0</td>\n",
       "      <td>620.0</td>\n",
       "      <td>0.0</td>\n",
       "      <td>55YOF WAS STANDING ON A STEP STOOL AND LOST FO...</td>\n",
       "      <td>HEAD INJURY</td>\n",
       "      <td>S</td>\n",
       "      <td>46.0</td>\n",
       "      <td>77.6641</td>\n",
       "    </tr>\n",
       "    <tr>\n",
       "      <th>4</th>\n",
       "      <td>170100740</td>\n",
       "      <td>01/01/2017</td>\n",
       "      <td>86</td>\n",
       "      <td>2</td>\n",
       "      <td>1.0</td>\n",
       "      <td>NaN</td>\n",
       "      <td>79.0</td>\n",
       "      <td>58.0</td>\n",
       "      <td>NaN</td>\n",
       "      <td>1.0</td>\n",
       "      <td>1.0</td>\n",
       "      <td>0.0</td>\n",
       "      <td>1646.0</td>\n",
       "      <td>4056.0</td>\n",
       "      <td>86YOF GOT TANGLED IN COAT AND FELL BACKWARD ST...</td>\n",
       "      <td>H. DX HEMATOMA OF SOFT TISSUE, LEFT FLANK</td>\n",
       "      <td>S</td>\n",
       "      <td>46.0</td>\n",
       "      <td>77.6641</td>\n",
       "    </tr>\n",
       "  </tbody>\n",
       "</table>\n",
       "</div>"
      ],
      "text/plain": [
       "  CPSC_Case_Number Treatment_Date Age  Sex  Race Other_Race  Body_Part  \\\n",
       "0        170100733     01/01/2017  21    1   1.0        NaN       75.0   \n",
       "1        170100734     01/01/2017  71    1   1.0        NaN       31.0   \n",
       "2        170100735     01/01/2017  16    1   1.0        NaN       33.0   \n",
       "3        170100737     01/01/2017  55    2   1.0        NaN       75.0   \n",
       "4        170100740     01/01/2017  86    2   1.0        NaN       79.0   \n",
       "\n",
       "   Diagnosis Other_Diagnosis  Disposition  Location  Fire_Involvement  \\\n",
       "0       62.0             NaN          1.0       1.0               0.0   \n",
       "1       53.0             NaN          1.0       5.0               0.0   \n",
       "2       51.0             NaN          1.0       1.0               0.0   \n",
       "3       62.0             NaN          1.0       1.0               0.0   \n",
       "4       58.0             NaN          1.0       1.0               0.0   \n",
       "\n",
       "   Product_1  Product_2                                        Narrative_1  \\\n",
       "0     1207.0        0.0  21YOM WAS BOXING WITH FRIEND WHILE DRINKING AN...   \n",
       "1     1807.0        0.0  71YOM FELL ON FLOOR IN BATHROOM. DX RIB CONTUSION   \n",
       "2      676.0      342.0  16YOM TRIPPED OVER A RUG AND FELL INTO A BURNI...   \n",
       "3      620.0        0.0  55YOF WAS STANDING ON A STEP STOOL AND LOST FO...   \n",
       "4     1646.0     4056.0  86YOF GOT TANGLED IN COAT AND FELL BACKWARD ST...   \n",
       "\n",
       "                                         Narrative_2 Stratum   PSU   Weight  \n",
       "0  . BAC= 93.6 DX HEAD INJURY AND ALCOHOL INTOXIC...       S  46.0  77.6641  \n",
       "1                                                NaN       S  46.0  77.6641  \n",
       "2  DX BURNS INVOLVING LESS THAN 10% OF BODY SURFA...       S  46.0  77.6641  \n",
       "3                                        HEAD INJURY       S  46.0  77.6641  \n",
       "4          H. DX HEMATOMA OF SOFT TISSUE, LEFT FLANK       S  46.0  77.6641  "
      ]
     },
     "execution_count": 7,
     "metadata": {},
     "output_type": "execute_result"
    }
   ],
   "source": [
    "df.head()"
   ]
  },
  {
   "cell_type": "code",
   "execution_count": 8,
   "metadata": {},
   "outputs": [],
   "source": [
    "# df.tail()"
   ]
  },
  {
   "cell_type": "markdown",
   "metadata": {},
   "source": [
    "## Sex\n",
    "> Decode coded data (converting numbers to meaningful words)\n",
    "> \n",
    "> Remove bad data"
   ]
  },
  {
   "cell_type": "code",
   "execution_count": 9,
   "metadata": {},
   "outputs": [
    {
     "data": {
      "text/plain": [
       "1    208695\n",
       "2    178203\n",
       "0         8\n",
       "8         1\n",
       "Name: Sex, dtype: int64"
      ]
     },
     "execution_count": 9,
     "metadata": {},
     "output_type": "execute_result"
    }
   ],
   "source": [
    "df['Sex'].value_counts()"
   ]
  },
  {
   "cell_type": "code",
   "execution_count": 10,
   "metadata": {},
   "outputs": [],
   "source": [
    "#  Replace numbers with names as detailed in the Coding Manual and use a dictionary to organize the changes\n",
    "df.Sex.replace({\n",
    "    1: 'Male',\n",
    "    2: 'Female',\n",
    "    0: 'Not Recorded'\n",
    "})\n",
    "\n",
    "# To make it permanent, we over-write the whole 'Sex' data column\n",
    "df['Sex'] = df.Sex.replace({\n",
    "    1: 'Male',\n",
    "    2: 'Female',\n",
    "    0: 'Not Recorded'\n",
    "})"
   ]
  },
  {
   "cell_type": "code",
   "execution_count": 11,
   "metadata": {},
   "outputs": [
    {
     "data": {
      "text/plain": [
       "Male            208695\n",
       "Female          178203\n",
       "Not Recorded         8\n",
       "8                    1\n",
       "Name: Sex, dtype: int64"
      ]
     },
     "execution_count": 11,
     "metadata": {},
     "output_type": "execute_result"
    }
   ],
   "source": [
    "df['Sex'].value_counts()"
   ]
  },
  {
   "cell_type": "code",
   "execution_count": 12,
   "metadata": {},
   "outputs": [
    {
     "data": {
      "text/html": [
       "<div>\n",
       "<style scoped>\n",
       "    .dataframe tbody tr th:only-of-type {\n",
       "        vertical-align: middle;\n",
       "    }\n",
       "\n",
       "    .dataframe tbody tr th {\n",
       "        vertical-align: top;\n",
       "    }\n",
       "\n",
       "    .dataframe thead th {\n",
       "        text-align: right;\n",
       "    }\n",
       "</style>\n",
       "<table border=\"1\" class=\"dataframe\">\n",
       "  <thead>\n",
       "    <tr style=\"text-align: right;\">\n",
       "      <th></th>\n",
       "      <th>CPSC_Case_Number</th>\n",
       "      <th>Treatment_Date</th>\n",
       "      <th>Age</th>\n",
       "      <th>Sex</th>\n",
       "      <th>Race</th>\n",
       "      <th>Other_Race</th>\n",
       "      <th>Body_Part</th>\n",
       "      <th>Diagnosis</th>\n",
       "      <th>Other_Diagnosis</th>\n",
       "      <th>Disposition</th>\n",
       "      <th>Location</th>\n",
       "      <th>Fire_Involvement</th>\n",
       "      <th>Product_1</th>\n",
       "      <th>Product_2</th>\n",
       "      <th>Narrative_1</th>\n",
       "      <th>Narrative_2</th>\n",
       "      <th>Stratum</th>\n",
       "      <th>PSU</th>\n",
       "      <th>Weight</th>\n",
       "    </tr>\n",
       "  </thead>\n",
       "  <tbody>\n",
       "    <tr>\n",
       "      <th>160878</th>\n",
       "      <td>;CONCUSSION</td>\n",
       "      <td>NaN</td>\n",
       "      <td>C</td>\n",
       "      <td>8</td>\n",
       "      <td>4.757</td>\n",
       "      <td>NaN</td>\n",
       "      <td>NaN</td>\n",
       "      <td>NaN</td>\n",
       "      <td>NaN</td>\n",
       "      <td>NaN</td>\n",
       "      <td>NaN</td>\n",
       "      <td>NaN</td>\n",
       "      <td>NaN</td>\n",
       "      <td>NaN</td>\n",
       "      <td>NaN</td>\n",
       "      <td>NaN</td>\n",
       "      <td>NaN</td>\n",
       "      <td>NaN</td>\n",
       "      <td>NaN</td>\n",
       "    </tr>\n",
       "  </tbody>\n",
       "</table>\n",
       "</div>"
      ],
      "text/plain": [
       "       CPSC_Case_Number Treatment_Date Age Sex   Race Other_Race  Body_Part  \\\n",
       "160878      ;CONCUSSION            NaN   C   8  4.757        NaN        NaN   \n",
       "\n",
       "        Diagnosis Other_Diagnosis  Disposition  Location  Fire_Involvement  \\\n",
       "160878        NaN             NaN          NaN       NaN               NaN   \n",
       "\n",
       "        Product_1  Product_2 Narrative_1 Narrative_2 Stratum  PSU  Weight  \n",
       "160878        NaN        NaN         NaN         NaN     NaN  NaN     NaN  "
      ]
     },
     "execution_count": 12,
     "metadata": {},
     "output_type": "execute_result"
    }
   ],
   "source": [
    "# show just the weird row with Sex = 8 and investigate\n",
    "df[df.Sex == 8]"
   ]
  },
  {
   "cell_type": "code",
   "execution_count": 13,
   "metadata": {},
   "outputs": [],
   "source": [
    "# That's dirty data.  Lots of missing useful & important data.  This should probably be deleted."
   ]
  },
  {
   "cell_type": "code",
   "execution_count": 14,
   "metadata": {},
   "outputs": [
    {
     "data": {
      "text/html": [
       "<div>\n",
       "<style scoped>\n",
       "    .dataframe tbody tr th:only-of-type {\n",
       "        vertical-align: middle;\n",
       "    }\n",
       "\n",
       "    .dataframe tbody tr th {\n",
       "        vertical-align: top;\n",
       "    }\n",
       "\n",
       "    .dataframe thead th {\n",
       "        text-align: right;\n",
       "    }\n",
       "</style>\n",
       "<table border=\"1\" class=\"dataframe\">\n",
       "  <thead>\n",
       "    <tr style=\"text-align: right;\">\n",
       "      <th></th>\n",
       "      <th>CPSC_Case_Number</th>\n",
       "      <th>Treatment_Date</th>\n",
       "      <th>Age</th>\n",
       "      <th>Sex</th>\n",
       "      <th>Race</th>\n",
       "      <th>Other_Race</th>\n",
       "      <th>Body_Part</th>\n",
       "      <th>Diagnosis</th>\n",
       "      <th>Other_Diagnosis</th>\n",
       "      <th>Disposition</th>\n",
       "      <th>Location</th>\n",
       "      <th>Fire_Involvement</th>\n",
       "      <th>Product_1</th>\n",
       "      <th>Product_2</th>\n",
       "      <th>Narrative_1</th>\n",
       "      <th>Narrative_2</th>\n",
       "      <th>Stratum</th>\n",
       "      <th>PSU</th>\n",
       "      <th>Weight</th>\n",
       "    </tr>\n",
       "  </thead>\n",
       "  <tbody>\n",
       "    <tr>\n",
       "      <th>160878</th>\n",
       "      <td>;CONCUSSION</td>\n",
       "      <td>NaN</td>\n",
       "      <td>C</td>\n",
       "      <td>8</td>\n",
       "      <td>4.757</td>\n",
       "      <td>NaN</td>\n",
       "      <td>NaN</td>\n",
       "      <td>NaN</td>\n",
       "      <td>NaN</td>\n",
       "      <td>NaN</td>\n",
       "      <td>NaN</td>\n",
       "      <td>NaN</td>\n",
       "      <td>NaN</td>\n",
       "      <td>NaN</td>\n",
       "      <td>NaN</td>\n",
       "      <td>NaN</td>\n",
       "      <td>NaN</td>\n",
       "      <td>NaN</td>\n",
       "      <td>NaN</td>\n",
       "    </tr>\n",
       "  </tbody>\n",
       "</table>\n",
       "</div>"
      ],
      "text/plain": [
       "       CPSC_Case_Number Treatment_Date Age Sex   Race Other_Race  Body_Part  \\\n",
       "160878      ;CONCUSSION            NaN   C   8  4.757        NaN        NaN   \n",
       "\n",
       "        Diagnosis Other_Diagnosis  Disposition  Location  Fire_Involvement  \\\n",
       "160878        NaN             NaN          NaN       NaN               NaN   \n",
       "\n",
       "        Product_1  Product_2 Narrative_1 Narrative_2 Stratum  PSU  Weight  \n",
       "160878        NaN        NaN         NaN         NaN     NaN  NaN     NaN  "
      ]
     },
     "execution_count": 14,
     "metadata": {},
     "output_type": "execute_result"
    }
   ],
   "source": [
    "#  Find missing data with isna or isnull()\n",
    "df[df.Diagnosis.isna()]"
   ]
  },
  {
   "cell_type": "code",
   "execution_count": 15,
   "metadata": {},
   "outputs": [],
   "source": [
    "#  Permanently remove empty rows from the whole data set using dropna or dropnull\n",
    "df = df.dropna(subset=['Diagnosis'])"
   ]
  },
  {
   "cell_type": "code",
   "execution_count": 16,
   "metadata": {},
   "outputs": [
    {
     "data": {
      "text/html": [
       "<div>\n",
       "<style scoped>\n",
       "    .dataframe tbody tr th:only-of-type {\n",
       "        vertical-align: middle;\n",
       "    }\n",
       "\n",
       "    .dataframe tbody tr th {\n",
       "        vertical-align: top;\n",
       "    }\n",
       "\n",
       "    .dataframe thead th {\n",
       "        text-align: right;\n",
       "    }\n",
       "</style>\n",
       "<table border=\"1\" class=\"dataframe\">\n",
       "  <thead>\n",
       "    <tr style=\"text-align: right;\">\n",
       "      <th></th>\n",
       "      <th>CPSC_Case_Number</th>\n",
       "      <th>Treatment_Date</th>\n",
       "      <th>Age</th>\n",
       "      <th>Sex</th>\n",
       "      <th>Race</th>\n",
       "      <th>Other_Race</th>\n",
       "      <th>Body_Part</th>\n",
       "      <th>Diagnosis</th>\n",
       "      <th>Other_Diagnosis</th>\n",
       "      <th>Disposition</th>\n",
       "      <th>Location</th>\n",
       "      <th>Fire_Involvement</th>\n",
       "      <th>Product_1</th>\n",
       "      <th>Product_2</th>\n",
       "      <th>Narrative_1</th>\n",
       "      <th>Narrative_2</th>\n",
       "      <th>Stratum</th>\n",
       "      <th>PSU</th>\n",
       "      <th>Weight</th>\n",
       "    </tr>\n",
       "  </thead>\n",
       "  <tbody>\n",
       "  </tbody>\n",
       "</table>\n",
       "</div>"
      ],
      "text/plain": [
       "Empty DataFrame\n",
       "Columns: [CPSC_Case_Number, Treatment_Date, Age, Sex, Race, Other_Race, Body_Part, Diagnosis, Other_Diagnosis, Disposition, Location, Fire_Involvement, Product_1, Product_2, Narrative_1, Narrative_2, Stratum, PSU, Weight]\n",
       "Index: []"
      ]
     },
     "execution_count": 16,
     "metadata": {},
     "output_type": "execute_result"
    }
   ],
   "source": [
    "#  Double check for missing data / nulls with another isna or isnull()\n",
    "df[df.Diagnosis.isna()]"
   ]
  },
  {
   "cell_type": "code",
   "execution_count": 17,
   "metadata": {},
   "outputs": [
    {
     "data": {
      "text/plain": [
       "Male            208695\n",
       "Female          178203\n",
       "Not Recorded         8\n",
       "Name: Sex, dtype: int64"
      ]
     },
     "execution_count": 17,
     "metadata": {},
     "output_type": "execute_result"
    }
   ],
   "source": [
    "#  We check the list again for the problem row Sex = \"8\" and it's gone.\n",
    "df['Sex'].value_counts()"
   ]
  },
  {
   "cell_type": "markdown",
   "metadata": {},
   "source": [
    "## Race\n",
    "> State or restate data as 'missing' at setup  *OR*  use numpy to make the change mid-stream\n",
    "> \n",
    "> Correcting bad labels and grouping with **numpy**"
   ]
  },
  {
   "cell_type": "code",
   "execution_count": 18,
   "metadata": {},
   "outputs": [
    {
     "data": {
      "text/plain": [
       "1.0    160527\n",
       "0.0    143677\n",
       "2.0     55144\n",
       "3.0     21193\n",
       "4.0      4714\n",
       "5.0      1234\n",
       "6.0       417\n",
       "Name: Race, dtype: int64"
      ]
     },
     "execution_count": 18,
     "metadata": {},
     "output_type": "execute_result"
    }
   ],
   "source": [
    "df.Race.value_counts()"
   ]
  },
  {
   "cell_type": "code",
   "execution_count": 19,
   "metadata": {},
   "outputs": [],
   "source": [
    "# As we did with Sex, we'll replace the coded numbers with meaningful names as provided by the NEISS Coding Manual\n",
    "df.Race.replace({\n",
    "    1: 'White',\n",
    "    2: 'Black',\n",
    "    4: 'Asian',\n",
    "    5: 'American Indian',\n",
    "    6: 'Pacific Islander',\n",
    "    3: 'Other',\n",
    "    0: 'Not Stated'\n",
    "})\n",
    "\n",
    "# And make the change permanent with \"df['Race'] = \"\n",
    "df['Race'] = df.Race.replace({\n",
    "    1: 'White',\n",
    "    2: 'Black',\n",
    "    4: 'Asian',\n",
    "    5: 'American Indian',\n",
    "    6: 'Pacific Islander',\n",
    "    3: 'Other',\n",
    "    0: 'Not Stated'\n",
    "})"
   ]
  },
  {
   "cell_type": "code",
   "execution_count": 20,
   "metadata": {},
   "outputs": [
    {
     "data": {
      "text/plain": [
       "White               160527\n",
       "Not Stated          143677\n",
       "Black                55144\n",
       "Other                21193\n",
       "Asian                 4714\n",
       "American Indian       1234\n",
       "Pacific Islander       417\n",
       "Name: Race, dtype: int64"
      ]
     },
     "execution_count": 20,
     "metadata": {},
     "output_type": "execute_result"
    }
   ],
   "source": [
    "df.Race.value_counts()"
   ]
  },
  {
   "cell_type": "code",
   "execution_count": 21,
   "metadata": {},
   "outputs": [
    {
     "data": {
      "text/plain": [
       "<matplotlib.axes._subplots.AxesSubplot at 0x1150d6f0>"
      ]
     },
     "execution_count": 21,
     "metadata": {},
     "output_type": "execute_result"
    },
    {
     "data": {
      "image/png": "[encoded data removed]",
      "text/plain": [
       "<Figure size 1008x288 with 1 Axes>"
      ]
     },
     "metadata": {
      "needs_background": "light"
     },
     "output_type": "display_data"
    }
   ],
   "source": [
    "df.Race.value_counts().sort_values(ascending=True).plot(kind='barh', figsize=(14,4))"
   ]
  },
  {
   "cell_type": "code",
   "execution_count": 22,
   "metadata": {},
   "outputs": [
    {
     "data": {
      "text/plain": [
       "White               0.415\n",
       "Not Stated          0.371\n",
       "Black               0.143\n",
       "Other               0.055\n",
       "Asian               0.012\n",
       "American Indian     0.003\n",
       "Pacific Islander    0.001\n",
       "Name: Race, dtype: float64"
      ]
     },
     "execution_count": 22,
     "metadata": {},
     "output_type": "execute_result"
    }
   ],
   "source": [
    "df.Race.value_counts(normalize=True).round(3)"
   ]
  },
  {
   "cell_type": "code",
   "execution_count": 23,
   "metadata": {},
   "outputs": [],
   "source": [
    "# That's a lot of \"Not Stated\"\n",
    "\n",
    "# For this doc '0' was the initial value for missing Race data.\n",
    "# Maybe '0' is used for some other missing fields?    Maybe its also some descriptive fields?"
   ]
  },
  {
   "cell_type": "code",
   "execution_count": 24,
   "metadata": {},
   "outputs": [
    {
     "data": {
      "text/plain": [
       "HISPANIC           17565\n",
       "UNKNOWN             2515\n",
       "MULTI-RACIAL        2334\n",
       "HISP                 816\n",
       "SOMALI               449\n",
       "NS                   312\n",
       "UNKN                 140\n",
       "NEPALI                51\n",
       "BIRACIAL              44\n",
       "MULTIRACIAL           34\n",
       "MULTI RACIAL          24\n",
       "ARAB                  17\n",
       "NON HISPANIC          15\n",
       "MEXICAN               14\n",
       "PUERTO RICAN          13\n",
       "DO NOT KNOW           13\n",
       "DECLINE               12\n",
       "`                     11\n",
       "UNK                   10\n",
       "HISPAINC               8\n",
       "SPANISH                8\n",
       "DECLINED               7\n",
       "MANDARIN               6\n",
       "HISAPNIC               6\n",
       "HISPANCI               6\n",
       "FULANI                 5\n",
       "NOT STATED             4\n",
       "LAO                    4\n",
       "ARABIC                 4\n",
       "JAPANESE               4\n",
       "                   ...  \n",
       "?HISPANIC              1\n",
       "ISRAELI                1\n",
       "NG                     1\n",
       "TWO OR MORE RAC        1\n",
       "BIRCACIAL              1\n",
       "HISSPANIC              1\n",
       "OTHER                  1\n",
       "DONOT KNOW             1\n",
       "HISPANC                1\n",
       "HISPANI                1\n",
       "HIPANIC                1\n",
       "``                     1\n",
       "TIGRINYA               1\n",
       "HISPANINC              1\n",
       "HAWIAN                 1\n",
       "HISPANIC10             1\n",
       "UNKNOKWN               1\n",
       "HIS0PANIC              1\n",
       "HIS                    1\n",
       "AMISH                  1\n",
       "HSP                    1\n",
       "URDU                   1\n",
       "TWI                    1\n",
       "HISPAIN                1\n",
       "MIDDLE EASTERN         1\n",
       "HISPOANIC              1\n",
       "ORIENTAL               1\n",
       "BENGALI                1\n",
       "HS[PANIC               1\n",
       "OTHER RACE UK          1\n",
       "Name: Other_Race, Length: 103, dtype: int64"
      ]
     },
     "execution_count": 24,
     "metadata": {},
     "output_type": "execute_result"
    }
   ],
   "source": [
    "# There are a number of entires in this dataset that indicate a useless entry:\n",
    "#     \"NaN\", \"NA\", \"N/A\", \"NULL,\" \"UNKNOWN\", \"UNKN\", \"Not Recorded\", \"Not Stated\", \"0\"\n",
    "df.Other_Race.value_counts()"
   ]
  },
  {
   "cell_type": "code",
   "execution_count": 25,
   "metadata": {},
   "outputs": [],
   "source": [
    "# Solution 1:  Fix at import\n",
    "# When the document is imported, the csv-(or whatever)-reader has a \"na_values=\" variable \n",
    "# to declare options as \"missing data\" and then replace with NaN.\n",
    "# This is a little dangerous if \"0\" is used meaningfully anywhere in the dataset.\n",
    "\n",
    "# df = pd.read_csv(\"neiss/neiss2017.tsv\", sep='\\t', encoding='latin-1', na_values=[0, \"UNKNOWN\", etc.])"
   ]
  },
  {
   "cell_type": "code",
   "execution_count": 26,
   "metadata": {},
   "outputs": [],
   "source": [
    "# Solution 2:  Fix by column with replace & numpy\n",
    "\n",
    "# Import numpy as np\n",
    "df['Other_Race'] = df.Other_Race.replace([\"DECLINED\", \"DECLINE\", \"UNK\", \"UNKN\", \"UNKOWN\", \"UNKNOWN\", \"UNKNOKWN\", \"DO NOT KNOW\", \"DONOT KNOW\", \"NOT STATED\", \"N/S\", \"NS\", \"OTHER\", \"OTHER RACE UK\", \"P\", \"M\", \"=\", \"`\", \"``\", \"- LAC. TO SCALP\", \"HYPOGLYCEMIA\"], np.nan)"
   ]
  },
  {
   "cell_type": "code",
   "execution_count": 27,
   "metadata": {},
   "outputs": [
    {
     "data": {
      "text/plain": [
       "HISPANIC        17565\n",
       "HISP              816\n",
       "NON HISPANIC       15\n",
       "HISPAINC            8\n",
       "HISPANCI            6\n",
       "HISPAINIC           4\n",
       "HISPANIC.           2\n",
       "HISPANICE           2\n",
       "NONHISPANIC         2\n",
       "1HISPANIC           1\n",
       "HISPANICX           1\n",
       "HISPANINC           1\n",
       "HISPOANIC           1\n",
       "?HISPANIC           1\n",
       "HISPANC             1\n",
       "`HISPANIC           1\n",
       "NON-HISPANIC        1\n",
       "HISPANIC10          1\n",
       "HISPANIC1           1\n",
       "HISPANI             1\n",
       "HISPAIN             1\n",
       "Name: Other_Race, dtype: int64"
      ]
     },
     "execution_count": 27,
     "metadata": {},
     "output_type": "execute_result"
    }
   ],
   "source": [
    "# Also there are an enormous number of \"Hispanic\" variations & mispellings:\n",
    "df[df.Other_Race.str.contains(\"HISP\", na=False)].Other_Race.value_counts()"
   ]
  },
  {
   "cell_type": "code",
   "execution_count": 28,
   "metadata": {},
   "outputs": [
    {
     "data": {
      "text/plain": [
       "HISPANIC      17565\n",
       "HISP            816\n",
       "HISPAINC          8\n",
       "HISPANCI          6\n",
       "HISAPNIC          6\n",
       "HISPAINIC         4\n",
       "HISPANIC.         2\n",
       "HISPANICE         2\n",
       "HISPANICX         1\n",
       "HISPANINC         1\n",
       "HIS               1\n",
       "HISPOANIC         1\n",
       "HIS0PANIC         1\n",
       "HISPANC           1\n",
       "HISPANIC10        1\n",
       "HISSPANIC         1\n",
       "HISPANIC1         1\n",
       "HISPANI           1\n",
       "HISPAIN           1\n",
       "Name: Other_Race, dtype: int64"
      ]
     },
     "execution_count": 28,
     "metadata": {},
     "output_type": "execute_result"
    }
   ],
   "source": [
    "# This regular expression will pick up only those words that start with \"HIS\":\n",
    "#     ^   = Must be the beginning of a line\n",
    "#     .*  = Combination of any character and any length text that follows\n",
    "#     Also note the \"str\" before contains.\n",
    "\n",
    "df[df.Other_Race.str.contains(\"^HIS.*\", na=False)].Other_Race.value_counts()"
   ]
  },
  {
   "cell_type": "code",
   "execution_count": 29,
   "metadata": {},
   "outputs": [],
   "source": [
    "# # Still a regular expression but a standard replace, no numpy required.\n",
    "# df['Other_Race'] = df.Other_Race.str.replace(\"^HIS.*\", \"HISPANIC\")\n",
    "# df.Other_Race.value_counts()"
   ]
  },
  {
   "cell_type": "markdown",
   "metadata": {},
   "source": [
    "# FLAG STOP"
   ]
  },
  {
   "cell_type": "code",
   "execution_count": 30,
   "metadata": {},
   "outputs": [],
   "source": [
    "# #  Some other clean up work, sloppy and mostly explicit:\n",
    "\n",
    "# df['Other_Race'] = df.Other_Race.str.replace(\"PUERTO RICAN\", \"PUERTORICAN\")\n",
    "\n",
    "# df['Other_Race'] = df.Other_Race.str.replace(\"MEXICIAN\", \"MEXICAN\")\n",
    "\n",
    "# df['Other_Race'] = df.Other_Race.str.replace(\"^MIXED.*\", \"MULTIRACIAL\")\n",
    "\n",
    "# df['Other_Race'] = df.Other_Race.str.replace(\"^MULTI.*\", \"MULTIRACIAL\")\n",
    "\n",
    "# listfix_multi = [\"MULTI RACIAL\", \"MULTI-RACIAL\", \"TWO OR MORE RAC\", \"2 MORE RACES\"]\n",
    "# for lfm in listfix_multi:\n",
    "#     df['Other_Race'] = df.Other_Race.str.replace(lfm, \"MULTIRACIAL\")\n",
    "\n",
    "# listfix_nonhisp = [\"NON HISPANIC\", \"NON-HISPANIC\", \"NON_HISPANIC\"]\n",
    "# for lfn in listfix_nonhisp:\n",
    "#     df['Other_Race'] = df.Other_Race.str.replace(lfn, \"NONHISPANIC\")\n",
    "\n",
    "# listfix_bi = [\"BIRCACIAL\", \"WHITE/BLACK\", \"BLACK/WHITE\"]\n",
    "# for lfb in listfix_bi:\n",
    "#     df['Other_Race'] = df.Other_Race.str.replace(lfb, \"BIRACIAL\")\n",
    "                 \n",
    "# listfix_hisp = [\"HSP\", \"HIPANI\", \"HSPANIC\", \"HIPANIC\", \"HIPSANIC\", \"`HISPANIC\", \"HSIPANIC\", \"HISSPANIC\", \"HISPANICC\", \"HISPANICANIC\", \"LATIN AMERICAN\"]\n",
    "# for lfh in listfix_hisp:\n",
    "#     df['Other_Race'] = df.Other_Race.str.replace(lfh, \"HISPANIC\")\n",
    "\n",
    "# df['Other_Race'] = df.Other_Race.str.replace(\"HYSPANIC/LATINO\", \"HISPANIC\")\n",
    "\n",
    "# df['Other_Race'] = df.Other_Race.str.replace(\"`HISPANIC\", \"HISPANIC\")\n",
    "\n",
    "# #  Don't know how to handle these as the characters break replace:\n",
    "# # df['Other_Race'] = df.Other_Race.str.replace(\"HS[PANIC\", \"HISPANIC\")\n",
    "# # df['Other_Race'] = df.Other_Race.str.replace(\"?HISPANIC\", \"HISPANIC\")\n",
    "                \n",
    "# df.Other_Race.value_counts()"
   ]
  },
  {
   "cell_type": "code",
   "execution_count": 31,
   "metadata": {},
   "outputs": [
    {
     "data": {
      "text/plain": [
       "HISPANIC         18432\n",
       "MULTIRACIAL       2400\n",
       "SOMALI             449\n",
       "NEPALI              51\n",
       "BIRACIAL            49\n",
       "NONHISPANIC         18\n",
       "ARAB                17\n",
       "MEXICAN             15\n",
       "PUERTORICAN         13\n",
       "SPANISH              8\n",
       "MANDARIN             6\n",
       "FULANI               5\n",
       "LAO                  4\n",
       "JAPANESE             4\n",
       "ARABIC               4\n",
       "TURKISH              4\n",
       "UK                   3\n",
       "RUSSIAN              3\n",
       "AMHARIC              3\n",
       "VIETNAMESE           3\n",
       "HAKHACHIN            3\n",
       "UKRAINIAN            2\n",
       "HISPANICANIC         2\n",
       "SWAHILI              2\n",
       "MIDDLEEASTERN        1\n",
       "MUSLIM               1\n",
       "HINDI                1\n",
       "OROMO                1\n",
       "NG                   1\n",
       "SOALI                1\n",
       "CAMBODIAN            1\n",
       "BENGALI              1\n",
       "\"                    1\n",
       "ARMENIAN             1\n",
       "ISRAELI              1\n",
       "TWI                  1\n",
       "ORIENTAL             1\n",
       "URDU                 1\n",
       "AMISH                1\n",
       "HAWAIIAN             1\n",
       "TIGRINYA             1\n",
       "Name: Other_Race, dtype: int64"
      ]
     },
     "execution_count": 31,
     "metadata": {},
     "output_type": "execute_result"
    }
   ],
   "source": [
    "#  Alternative Attempt, a bit more automated:\n",
    "\n",
    "\n",
    "#  A few explicit fixes: \n",
    "df['Other_Race'] = df.Other_Race.str.replace(\"MIDDLE EASTERN\", \"MIDDLEEASTERN\")\n",
    "df['Other_Race'] = df.Other_Race.str.replace(\"PUERTO RICAN\", \"PUERTORICAN\")\n",
    "df['Other_Race'] = df.Other_Race.str.replace(\"HAKHA CHIN\", \"HAKHACHIN\")\n",
    "df['Other_Race'] = df.Other_Race.str.replace(\"MEXICIAN\", \"MEXICAN\")\n",
    "df['Other_Race'] = df.Other_Race.str.replace(\"HAWIAN\", \"HAWAIIAN\")\n",
    "listfix_bi = [\"BIRCACIAL\", \"WHITE/BLACK\", \"BLACK/WHITE\"]\n",
    "for lfb in listfix_bi:\n",
    "    df['Other_Race'] = df.Other_Race.str.replace(lfb, \"BIRACIAL\")\n",
    "\n",
    "\n",
    "#  Renaming odd names into safer buckets:\n",
    "listfix_nonhisp = [\"NON HISPANIC\", \"NON-HISPANIC\", \"NON_HISPANIC\", \"NONHISPANIC\"]\n",
    "for lfn in listfix_nonhisp:\n",
    "    df['Other_Race'] = df.Other_Race.str.replace(lfn, \"TEMPNONH\")\n",
    "\n",
    "listfix_hisp = [\"HSP\", \"LATIN AMERICAN\"]\n",
    "for lfh in listfix_hisp:\n",
    "    df['Other_Race'] = df.Other_Race.str.replace(lfh, \"TEMPHI\")\n",
    "\n",
    "df['Other_Race'] = df.Other_Race.str.replace(\".*HIS.*\", \"TEMPHI\")\n",
    "df['Other_Race'] = df.Other_Race.str.replace(\".*HIP.*\", \"TEMPHI\")\n",
    "df['Other_Race'] = df.Other_Race.str.replace(\".*PANIC.*\", \"TEMPHI\")\n",
    "\n",
    "df['Other_Race'] = df.Other_Race.str.replace(\".*MIXED.*\", \"TEMPMR\")\n",
    "df['Other_Race'] = df.Other_Race.str.replace(\".*MULTI.*\", \"TEMPMR\")\n",
    "\n",
    "listfix_multi = [\"TWO OR MORE RAC\", \"2 MORE RACES\"]\n",
    "for lfm in listfix_multi:\n",
    "    df['Other_Race'] = df.Other_Race.str.replace(lfm, \"TEMPMR\")\n",
    "\n",
    "    \n",
    "#  Renaming safe-names back to standard\n",
    "df['Other_Race'] = df.Other_Race.str.replace(\"TEMPMR\", \"MULTIRACIAL\")\n",
    "df['Other_Race'] = df.Other_Race.str.replace(\"TEMPNONH\", \"NONHISPANIC\")\n",
    "df['Other_Race'] = df.Other_Race.str.replace(\"TEMPHI\", \"HISPANIC\")\n",
    "\n",
    "\n",
    "df.Other_Race.value_counts()"
   ]
  },
  {
   "cell_type": "code",
   "execution_count": null,
   "metadata": {},
   "outputs": [],
   "source": [
    "df.Other_Race.value_counts()"
   ]
  },
  {
   "cell_type": "markdown",
   "metadata": {},
   "source": [
    "## Age\n",
    "> Fixing useful but funky data"
   ]
  },
  {
   "cell_type": "code",
   "execution_count": null,
   "metadata": {},
   "outputs": [],
   "source": [
    "###### FAILING AT THIS\n",
    "###### Organize by age \n",
    "###### \n",
    "df.Age"
   ]
  },
  {
   "cell_type": "code",
   "execution_count": null,
   "metadata": {},
   "outputs": [],
   "source": [
    "# Organize by number of injuries per age\n",
    "df.Age.value_counts()"
   ]
  },
  {
   "cell_type": "code",
   "execution_count": null,
   "metadata": {},
   "outputs": [],
   "source": [
    "# Can't do this yet!  There is no longer a value of 'C' in the Ages but it still won't process.  \n",
    "# df.Age.min()\n",
    "\n",
    "# It's because Age is listed as an 'object' aka a 'string' in Panda-speak, and that can't be min'ed or max'ed, etc.\n",
    "df.dtypes"
   ]
  },
  {
   "cell_type": "code",
   "execution_count": null,
   "metadata": {},
   "outputs": [],
   "source": [
    "# Permenantly change the whole Age column into integer \n",
    "df.Age = df.Age.astype(int)"
   ]
  },
  {
   "cell_type": "code",
   "execution_count": null,
   "metadata": {},
   "outputs": [],
   "source": [
    "df.dtypes"
   ]
  },
  {
   "cell_type": "code",
   "execution_count": null,
   "metadata": {},
   "outputs": [],
   "source": [
    "df.Age.min()"
   ]
  },
  {
   "cell_type": "code",
   "execution_count": null,
   "metadata": {},
   "outputs": [],
   "source": [
    "df[df.Age == 2]"
   ]
  },
  {
   "cell_type": "code",
   "execution_count": null,
   "metadata": {},
   "outputs": [],
   "source": [
    "df[df.Age == 1]"
   ]
  },
  {
   "cell_type": "code",
   "execution_count": null,
   "metadata": {},
   "outputs": [],
   "source": [
    "# Looking at the documentation\n",
    "#     Age  0    =  Not Recorded\n",
    "#     Ages 200+ =  Babies where the 200 is meaningless but the last two digits count months\n",
    "df.Age.hist(bins=50, figsize=(18,5))"
   ]
  },
  {
   "cell_type": "code",
   "execution_count": null,
   "metadata": {},
   "outputs": [],
   "source": [
    "# Count up all of the times age is greater than 200\n",
    "# False = 0     True = 1\n",
    "# So you can do .sum() to collect and add up all of the 1's\n",
    "(df.Age >= 200).sum()"
   ]
  },
  {
   "cell_type": "code",
   "execution_count": null,
   "metadata": {},
   "outputs": [],
   "source": [
    "# Solution 1:  remove all babies from the data (anyone with age 200+)\n",
    "# df = df[df.Age < 200]"
   ]
  },
  {
   "cell_type": "code",
   "execution_count": null,
   "metadata": {},
   "outputs": [],
   "source": [
    "# Solution 2:  convert 200+ ages to useful ages \n",
    "#    by default, saving decimals like these will make the column floats even if it was already set ints\n",
    "\n",
    "# Can maybe define the equation:\n",
    "# age_equ = '(df.Age - 200) / 12'\n",
    "\n",
    "# Can over-write 'Age' column:\n",
    "# df['Age'] = df.Age.mask(df.Age >= 200, (df.Age - 200) / 12)\n",
    "\n",
    "# Or make new column:\n",
    "df['Age_Deci'] = df.Age.mask(df.Age >= 200, (df.Age - 200) / 12)"
   ]
  },
  {
   "cell_type": "code",
   "execution_count": null,
   "metadata": {},
   "outputs": [],
   "source": [
    "df[df.Age_Deci < 2]"
   ]
  },
  {
   "cell_type": "code",
   "execution_count": null,
   "metadata": {},
   "outputs": [],
   "source": [
    "df.Age_Deci.hist(bins=100, figsize=(18,5))"
   ]
  },
  {
   "cell_type": "code",
   "execution_count": null,
   "metadata": {},
   "outputs": [],
   "source": [
    "df.groupby('Sex').Age_Deci.median()"
   ]
  },
  {
   "cell_type": "code",
   "execution_count": null,
   "metadata": {},
   "outputs": [],
   "source": [
    "df.groupby('Sex').Age_Deci.hist(alpha=0.5, bins=25, figsize=(18,5))"
   ]
  },
  {
   "cell_type": "markdown",
   "metadata": {},
   "source": [
    "## Homework Notes\n",
    ">\"45.4%\" will require removing %, replacing it with nothing.\n",
    ">\n",
    ">.unique is used *somewhere* "
   ]
  },
  {
   "cell_type": "code",
   "execution_count": null,
   "metadata": {},
   "outputs": [],
   "source": []
  }
 ],
 "metadata": {
  "kernelspec": {
   "display_name": "Python 3",
   "language": "python",
   "name": "python3"
  },
  "language_info": {
   "codemirror_mode": {
    "name": "ipython",
    "version": 3
   },
   "file_extension": ".py",
   "mimetype": "text/x-python",
   "name": "python",
   "nbconvert_exporter": "python",
   "pygments_lexer": "ipython3",
   "version": "3.7.3"
  }
 },
 "nbformat": 4,
 "nbformat_minor": 2
}
